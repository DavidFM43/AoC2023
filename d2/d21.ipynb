{
 "cells": [
  {
   "cell_type": "code",
   "execution_count": 2,
   "metadata": {},
   "outputs": [],
   "source": [
    "inputs = open(\"in.txt\", \"r\").read().split(\"\\n\")\n",
    "# inputs = open(\"test_in.txt\", \"r\").read().split(\"\\n\")\n",
    "# inputs"
   ]
  },
  {
   "cell_type": "code",
   "execution_count": 3,
   "metadata": {},
   "outputs": [],
   "source": [
    "def parse_gms_info(inputs):\n",
    "    gms_info = []\n",
    "    for l in inputs:\n",
    "        gn = int(l.split(\":\")[0].split()[1])\n",
    "        ginfo = []\n",
    "        for reveal in l.split(\":\")[1].split(\";\"):\n",
    "            rinfo = {\"red\": 0, \"green\": 0, \"blue\": 0}\n",
    "            pairs = [pair.strip().split() for pair in reveal.split(\",\")]\n",
    "            for n, c in pairs:\n",
    "                rinfo[c] = int(n)\n",
    "            ginfo.append(rinfo)\n",
    "        gms_info.append((gn, ginfo))\n",
    "    return gms_info "
   ]
  },
  {
   "cell_type": "code",
   "execution_count": 4,
   "metadata": {},
   "outputs": [],
   "source": [
    "gms_info = parse_gms_info(inputs)"
   ]
  },
  {
   "cell_type": "code",
   "execution_count": 5,
   "metadata": {},
   "outputs": [
    {
     "data": {
      "text/plain": [
       "2169"
      ]
     },
     "execution_count": 5,
     "metadata": {},
     "output_type": "execute_result"
    }
   ],
   "source": [
    "maxr = 12\n",
    "maxg = 13\n",
    "maxb = 14\n",
    "\n",
    "def valid_game(g):\n",
    "    n, ginfo = g\n",
    "    for reveal in ginfo:\n",
    "        nr, ng, nb = reveal[\"red\"], reveal[\"green\"], reveal[\"blue\"]\n",
    "        if nr > maxr:\n",
    "            return 0\n",
    "        if ng > maxg:\n",
    "            return 0\n",
    "        if nb > maxb:\n",
    "            return 0\n",
    "    return n\n",
    "\n",
    "sum = 0\n",
    "for g in gms_info:\n",
    "    sum += valid_game(g)\n",
    "sum"
   ]
  }
 ],
 "metadata": {
  "kernelspec": {
   "display_name": "ds",
   "language": "python",
   "name": "python3"
  },
  "language_info": {
   "codemirror_mode": {
    "name": "ipython",
    "version": 3
   },
   "file_extension": ".py",
   "mimetype": "text/x-python",
   "name": "python",
   "nbconvert_exporter": "python",
   "pygments_lexer": "ipython3",
   "version": "3.11.5"
  }
 },
 "nbformat": 4,
 "nbformat_minor": 2
}
