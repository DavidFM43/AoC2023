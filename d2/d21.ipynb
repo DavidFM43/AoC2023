{
 "cells": [
  {
   "cell_type": "code",
   "execution_count": 1,
   "metadata": {},
   "outputs": [
    {
     "data": {
      "text/plain": [
       "['Game 1: 3 blue, 4 red; 1 red, 2 green, 6 blue; 2 green',\n",
       " 'Game 2: 1 blue, 2 green; 3 green, 4 blue, 1 red; 1 green, 1 blue',\n",
       " 'Game 3: 8 green, 6 blue, 20 red; 5 blue, 4 red, 13 green; 5 green, 1 red',\n",
       " 'Game 4: 1 green, 3 red, 6 blue; 3 green, 6 red; 3 green, 15 blue, 14 red',\n",
       " 'Game 5: 6 red, 1 blue, 3 green; 2 blue, 1 red, 2 green']"
      ]
     },
     "execution_count": 1,
     "metadata": {},
     "output_type": "execute_result"
    }
   ],
   "source": [
    "# inputs = open(\"in.txt\", \"r\").read().split(\"\\n\")\n",
    "inputs = open(\"test_in.txt\", \"r\").read().split(\"\\n\")\n",
    "inputs"
   ]
  },
  {
   "cell_type": "code",
   "execution_count": 11,
   "metadata": {},
   "outputs": [],
   "source": [
    "gms_info = []\n",
    "for l in inputs:\n",
    "    gn = l.split(\":\")[0][-1]\n",
    "    def parse_reveal(reveal):\n",
    "        nred = reveal[reveal.find(\"red\") - 2] if reveal.find(\"red\") != -1 else 0\n",
    "        ngree = reveal[reveal.find(\"green\") - 2] if reveal.find(\"green\") != -1 else 0\n",
    "        nblue = reveal[reveal.find(\"blue\") - 2] if reveal.find(\"blue\") != -1 else 0\n",
    "        return int(nred), int(ngree), int(nblue)\n",
    "\n",
    "    gms_info.append([parse_reveal(r) for r in l.split(\":\")[1].split(\";\")])"
   ]
  },
  {
   "cell_type": "code",
   "execution_count": 12,
   "metadata": {},
   "outputs": [
    {
     "data": {
      "text/plain": [
       "[[(4, 0, 3), (1, 2, 6), (0, 2, 0)],\n",
       " [(0, 2, 1), (1, 3, 4), (0, 1, 1)],\n",
       " [(0, 8, 6), (4, 3, 5), (1, 5, 0)],\n",
       " [(3, 1, 6), (6, 3, 0), (4, 3, 5)],\n",
       " [(6, 3, 1), (1, 2, 2)]]"
      ]
     },
     "execution_count": 12,
     "metadata": {},
     "output_type": "execute_result"
    }
   ],
   "source": [
    "gms_info[0]"
   ]
  }
 ],
 "metadata": {
  "kernelspec": {
   "display_name": "ds",
   "language": "python",
   "name": "python3"
  },
  "language_info": {
   "codemirror_mode": {
    "name": "ipython",
    "version": 3
   },
   "file_extension": ".py",
   "mimetype": "text/x-python",
   "name": "python",
   "nbconvert_exporter": "python",
   "pygments_lexer": "ipython3",
   "version": "3.11.5"
  }
 },
 "nbformat": 4,
 "nbformat_minor": 2
}
