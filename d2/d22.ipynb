{
 "cells": [
  {
   "cell_type": "code",
   "execution_count": 1,
   "metadata": {},
   "outputs": [
    {
     "data": {
      "text/plain": [
       "['Game 1: 3 blue, 4 red; 1 red, 2 green, 6 blue; 2 green',\n",
       " 'Game 2: 1 blue, 2 green; 3 green, 4 blue, 1 red; 1 green, 1 blue',\n",
       " 'Game 3: 8 green, 6 blue, 20 red; 5 blue, 4 red, 13 green; 5 green, 1 red',\n",
       " 'Game 4: 1 green, 3 red, 6 blue; 3 green, 6 red; 3 green, 15 blue, 14 red',\n",
       " 'Game 5: 6 red, 1 blue, 3 green; 2 blue, 1 red, 2 green']"
      ]
     },
     "execution_count": 1,
     "metadata": {},
     "output_type": "execute_result"
    }
   ],
   "source": [
    "inputs = open(\"in.txt\", \"r\").read().split(\"\\n\")\n",
    "# inputs = open(\"test_in.txt\", \"r\").read().split(\"\\n\")\n",
    "inputs"
   ]
  },
  {
   "cell_type": "code",
   "execution_count": 2,
   "metadata": {},
   "outputs": [],
   "source": [
    "def parse_gms_info(inputs):\n",
    "    gms_info = []\n",
    "    for l in inputs:\n",
    "        gn = int(l.split(\":\")[0].split()[1])\n",
    "        ginfo = []\n",
    "        for reveal in l.split(\":\")[1].split(\";\"):\n",
    "            rinfo = {\"red\": 0, \"green\": 0, \"blue\": 0}\n",
    "            pairs = [pair.strip().split() for pair in reveal.split(\",\")]\n",
    "            for n, c in pairs:\n",
    "                rinfo[c] = int(n)\n",
    "            ginfo.append(rinfo)\n",
    "        gms_info.append((gn, ginfo))\n",
    "    return gms_info "
   ]
  },
  {
   "cell_type": "code",
   "execution_count": 3,
   "metadata": {},
   "outputs": [],
   "source": [
    "gms_info = parse_gms_info(inputs)"
   ]
  },
  {
   "cell_type": "code",
   "execution_count": 7,
   "metadata": {},
   "outputs": [
    {
     "data": {
      "text/plain": [
       "[(1,\n",
       "  [{'red': 4, 'green': 0, 'blue': 3},\n",
       "   {'red': 1, 'green': 2, 'blue': 6},\n",
       "   {'red': 0, 'green': 2, 'blue': 0}]),\n",
       " (2,\n",
       "  [{'red': 0, 'green': 2, 'blue': 1},\n",
       "   {'red': 1, 'green': 3, 'blue': 4},\n",
       "   {'red': 0, 'green': 1, 'blue': 1}]),\n",
       " (3,\n",
       "  [{'red': 20, 'green': 8, 'blue': 6},\n",
       "   {'red': 4, 'green': 13, 'blue': 5},\n",
       "   {'red': 1, 'green': 5, 'blue': 0}]),\n",
       " (4,\n",
       "  [{'red': 3, 'green': 1, 'blue': 6},\n",
       "   {'red': 6, 'green': 3, 'blue': 0},\n",
       "   {'red': 14, 'green': 3, 'blue': 15}]),\n",
       " (5, [{'red': 6, 'green': 3, 'blue': 1}, {'red': 1, 'green': 2, 'blue': 2}])]"
      ]
     },
     "execution_count": 7,
     "metadata": {},
     "output_type": "execute_result"
    }
   ],
   "source": [
    "gms_info"
   ]
  },
  {
   "cell_type": "code",
   "execution_count": 8,
   "metadata": {},
   "outputs": [
    {
     "data": {
      "text/plain": [
       "2286"
      ]
     },
     "execution_count": 8,
     "metadata": {},
     "output_type": "execute_result"
    }
   ],
   "source": [
    "def cube_power(g):\n",
    "    _, ginfo = g\n",
    "    r, g, b = -1, -1, -1\n",
    "    for reveal in ginfo:\n",
    "        nr, ng, nb = reveal[\"red\"], reveal[\"green\"], reveal[\"blue\"]\n",
    "        r = max(r, nr)\n",
    "        g = max(g, ng)\n",
    "        b = max(b, nb)\n",
    "    return r * g * b\n",
    "\n",
    "sum = 0\n",
    "for g in gms_info:\n",
    "    sum += cube_power(g)\n",
    "sum"
   ]
  },
  {
   "cell_type": "code",
   "execution_count": null,
   "metadata": {},
   "outputs": [],
   "source": []
  }
 ],
 "metadata": {
  "kernelspec": {
   "display_name": "ds",
   "language": "python",
   "name": "python3"
  },
  "language_info": {
   "codemirror_mode": {
    "name": "ipython",
    "version": 3
   },
   "file_extension": ".py",
   "mimetype": "text/x-python",
   "name": "python",
   "nbconvert_exporter": "python",
   "pygments_lexer": "ipython3",
   "version": "3.11.5"
  }
 },
 "nbformat": 4,
 "nbformat_minor": 2
}
