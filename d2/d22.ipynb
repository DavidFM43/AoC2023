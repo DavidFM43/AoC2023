{
 "cells": [
  {
   "cell_type": "code",
   "execution_count": 1,
   "metadata": {},
   "outputs": [],
   "source": [
    "inputs = open(\"in.txt\", \"r\").read().split(\"\\n\")\n",
    "# inputs = open(\"test_in.txt\", \"r\").read().split(\"\\n\")\n",
    "# inputs"
   ]
  },
  {
   "cell_type": "code",
   "execution_count": 2,
   "metadata": {},
   "outputs": [],
   "source": [
    "def parse_gms_info(inputs):\n",
    "    gms_info = []\n",
    "    for l in inputs:\n",
    "        gn = int(l.split(\":\")[0].split()[1])\n",
    "        ginfo = []\n",
    "        for reveal in l.split(\":\")[1].split(\";\"):\n",
    "            rinfo = {\"red\": 0, \"green\": 0, \"blue\": 0}\n",
    "            pairs = [pair.strip().split() for pair in reveal.split(\",\")]\n",
    "            for n, c in pairs:\n",
    "                rinfo[c] = int(n)\n",
    "            ginfo.append(rinfo)\n",
    "        gms_info.append((gn, ginfo))\n",
    "    return gms_info "
   ]
  },
  {
   "cell_type": "code",
   "execution_count": 3,
   "metadata": {},
   "outputs": [],
   "source": [
    "gms_info = parse_gms_info(inputs)"
   ]
  },
  {
   "cell_type": "code",
   "execution_count": 4,
   "metadata": {},
   "outputs": [
    {
     "data": {
      "text/plain": [
       "60948"
      ]
     },
     "execution_count": 4,
     "metadata": {},
     "output_type": "execute_result"
    }
   ],
   "source": [
    "def cube_power(g):\n",
    "    _, ginfo = g\n",
    "    r, g, b = -1, -1, -1\n",
    "    for reveal in ginfo:\n",
    "        nr, ng, nb = reveal[\"red\"], reveal[\"green\"], reveal[\"blue\"]\n",
    "        r = max(r, nr)\n",
    "        g = max(g, ng)\n",
    "        b = max(b, nb)\n",
    "    return r * g * b\n",
    "\n",
    "sum = 0\n",
    "for g in gms_info:\n",
    "    sum += cube_power(g)\n",
    "sum"
   ]
  }
 ],
 "metadata": {
  "kernelspec": {
   "display_name": "ds",
   "language": "python",
   "name": "python3"
  },
  "language_info": {
   "codemirror_mode": {
    "name": "ipython",
    "version": 3
   },
   "file_extension": ".py",
   "mimetype": "text/x-python",
   "name": "python",
   "nbconvert_exporter": "python",
   "pygments_lexer": "ipython3",
   "version": "3.11.5"
  }
 },
 "nbformat": 4,
 "nbformat_minor": 2
}
