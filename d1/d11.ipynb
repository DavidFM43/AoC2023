{
 "cells": [
  {
   "cell_type": "code",
   "execution_count": 1,
   "metadata": {},
   "outputs": [],
   "source": [
    "inputs = open(\"in.txt\", \"r\").read().split(\"\\n\")\n",
    "# inputs = open(\"test_in.txt\", \"r\").read().split(\"\\n\")\n",
    "# inputs"
   ]
  },
  {
   "cell_type": "code",
   "execution_count": 2,
   "metadata": {},
   "outputs": [
    {
     "name": "stdout",
     "output_type": "stream",
     "text": [
      "54081\n"
     ]
    }
   ],
   "source": [
    "sum = 0\n",
    "for t in inputs:\n",
    "    first = -1\n",
    "    last = -1\n",
    "    for idx in range(len(t)):\n",
    "        lchar = t[idx]\n",
    "        rchar = t[len(t) - idx - 1]\n",
    "        if lchar.isdigit() and first == -1:\n",
    "            first = int(lchar)\n",
    "        if rchar.isdigit() and last == -1:\n",
    "            last = int(rchar)\n",
    "        if first != -1 and last != -1:\n",
    "            break\n",
    "    num = first * 10 + last\n",
    "    sum += num\n",
    "\n",
    "print(sum)"
   ]
  }
 ],
 "metadata": {
  "kernelspec": {
   "display_name": "base",
   "language": "python",
   "name": "python3"
  },
  "language_info": {
   "codemirror_mode": {
    "name": "ipython",
    "version": 3
   },
   "file_extension": ".py",
   "mimetype": "text/x-python",
   "name": "python",
   "nbconvert_exporter": "python",
   "pygments_lexer": "ipython3",
   "version": "3.11.5"
  }
 },
 "nbformat": 4,
 "nbformat_minor": 2
}
