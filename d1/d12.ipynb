{
 "cells": [
  {
   "cell_type": "code",
   "execution_count": 131,
   "metadata": {},
   "outputs": [
    {
     "ename": "FileNotFoundError",
     "evalue": "[Errno 2] No such file or directory: 'in.txt'",
     "output_type": "error",
     "traceback": [
      "\u001b[0;31m---------------------------------------------------------------------------\u001b[0m",
      "\u001b[0;31mFileNotFoundError\u001b[0m                         Traceback (most recent call last)",
      "\u001b[1;32m/home/david/programming-projects/AoC2023/d1/d12.ipynb Cell 1\u001b[0m line \u001b[0;36m1\n\u001b[0;32m----> <a href='vscode-notebook-cell:/home/david/programming-projects/AoC2023/d1/d12.ipynb#X20sZmlsZQ%3D%3D?line=0'>1</a>\u001b[0m inputs \u001b[39m=\u001b[39m \u001b[39mopen\u001b[39;49m(\u001b[39m\"\u001b[39;49m\u001b[39min.txt\u001b[39;49m\u001b[39m\"\u001b[39;49m, \u001b[39m\"\u001b[39;49m\u001b[39mr\u001b[39;49m\u001b[39m\"\u001b[39;49m)\u001b[39m.\u001b[39mread()\u001b[39m.\u001b[39msplit(\u001b[39m\"\u001b[39m\u001b[39m\\n\u001b[39;00m\u001b[39m\"\u001b[39m)\n\u001b[1;32m      <a href='vscode-notebook-cell:/home/david/programming-projects/AoC2023/d1/d12.ipynb#X20sZmlsZQ%3D%3D?line=1'>2</a>\u001b[0m \u001b[39m# inputs = open(\"test_in2.txt\", \"r\").read().split(\"\\n\")\u001b[39;00m\n\u001b[1;32m      <a href='vscode-notebook-cell:/home/david/programming-projects/AoC2023/d1/d12.ipynb#X20sZmlsZQ%3D%3D?line=2'>3</a>\u001b[0m \u001b[39m# inputs\u001b[39;00m\n",
      "File \u001b[0;32m~/miniconda3/envs/ds/lib/python3.11/site-packages/IPython/core/interactiveshell.py:310\u001b[0m, in \u001b[0;36m_modified_open\u001b[0;34m(file, *args, **kwargs)\u001b[0m\n\u001b[1;32m    303\u001b[0m \u001b[39mif\u001b[39;00m file \u001b[39min\u001b[39;00m {\u001b[39m0\u001b[39m, \u001b[39m1\u001b[39m, \u001b[39m2\u001b[39m}:\n\u001b[1;32m    304\u001b[0m     \u001b[39mraise\u001b[39;00m \u001b[39mValueError\u001b[39;00m(\n\u001b[1;32m    305\u001b[0m         \u001b[39mf\u001b[39m\u001b[39m\"\u001b[39m\u001b[39mIPython won\u001b[39m\u001b[39m'\u001b[39m\u001b[39mt let you open fd=\u001b[39m\u001b[39m{\u001b[39;00mfile\u001b[39m}\u001b[39;00m\u001b[39m by default \u001b[39m\u001b[39m\"\u001b[39m\n\u001b[1;32m    306\u001b[0m         \u001b[39m\"\u001b[39m\u001b[39mas it is likely to crash IPython. If you know what you are doing, \u001b[39m\u001b[39m\"\u001b[39m\n\u001b[1;32m    307\u001b[0m         \u001b[39m\"\u001b[39m\u001b[39myou can use builtins\u001b[39m\u001b[39m'\u001b[39m\u001b[39m open.\u001b[39m\u001b[39m\"\u001b[39m\n\u001b[1;32m    308\u001b[0m     )\n\u001b[0;32m--> 310\u001b[0m \u001b[39mreturn\u001b[39;00m io_open(file, \u001b[39m*\u001b[39;49margs, \u001b[39m*\u001b[39;49m\u001b[39m*\u001b[39;49mkwargs)\n",
      "\u001b[0;31mFileNotFoundError\u001b[0m: [Errno 2] No such file or directory: 'in.txt'"
     ]
    }
   ],
   "source": [
    "inputs = open(\"in.txt\", \"r\").read().split(\"\\n\")\n",
    "# inputs = open(\"test_in2.txt\", \"r\").read().split(\"\\n\")\n",
    "# inputs"
   ]
  },
  {
   "cell_type": "code",
   "execution_count": 132,
   "metadata": {},
   "outputs": [
    {
     "data": {
      "text/plain": [
       "54649"
      ]
     },
     "execution_count": 132,
     "metadata": {},
     "output_type": "execute_result"
    }
   ],
   "source": [
    "def sd(w):\n",
    "    sds = [\"one\", \"two\", \"three\", \"four\", \"five\", \"six\", \"seven\", \"eight\", \"nine\"]\n",
    "    rds = [sd[::-1] for sd in sds]\n",
    "    fs = [w.find(sd) if w.find(sd) != -1 else float(\"inf\") for sd in sds]\n",
    "    # reverse the whole thing so we get the last appeareance index using .find and make the indices work\n",
    "    ls = [len(w) - len(rsd) - w[::-1].find(rsd) if w[::-1].find(rsd) != -1 else float(\"-inf\") for rsd in rds]\n",
    "\n",
    "    idxf = min(fs)\n",
    "    f = fs.index(idxf) + 1 \n",
    "    idxl = max(ls)\n",
    "    l = ls.index(idxl) + 1\n",
    "\n",
    "    return f, idxf, l, idxl\n",
    "\n",
    "def nd(w):\n",
    "    idx_first, first = float(\"inf\"), float(\"inf\")\n",
    "    idx_last, last = float(\"-inf\"), float(\"-inf\")\n",
    "    for idx in range(len(w)):\n",
    "        lidx = len(w) - idx - 1\n",
    "        lchar = w[idx]\n",
    "        rchar = w[lidx]\n",
    "        if lchar.isdigit() and first == float(\"inf\"):\n",
    "            first = int(lchar)\n",
    "            idx_first = idx\n",
    "        if rchar.isdigit() and last == float(\"-inf\"):\n",
    "            last = int(rchar)\n",
    "            idx_last = lidx\n",
    "        if first != float(\"inf\") and last != float(\"-inf\"):\n",
    "            break\n",
    "\n",
    "    return first, idx_first, last, idx_last\n",
    "\n",
    "def fandl(w):\n",
    "    nf, idxnf, nl, idxnl = nd(w)\n",
    "    sf, idxsf, sl, idxsl = sd(w)\n",
    "    f = nf if min(idxsf, idxnf) == idxnf else sf\n",
    "    l = sl if max(idxsl, idxnl) == idxsl else nl\n",
    "    return f, l\n",
    "\n",
    "sum = 0\n",
    "for input in inputs:\n",
    "    f, l = fandl(input)\n",
    "    num = f * 10 + l\n",
    "    sum += num\n",
    "sum"
   ]
  }
 ],
 "metadata": {
  "kernelspec": {
   "display_name": "base",
   "language": "python",
   "name": "python3"
  },
  "language_info": {
   "codemirror_mode": {
    "name": "ipython",
    "version": 3
   },
   "file_extension": ".py",
   "mimetype": "text/x-python",
   "name": "python",
   "nbconvert_exporter": "python",
   "pygments_lexer": "ipython3",
   "version": "3.11.5"
  }
 },
 "nbformat": 4,
 "nbformat_minor": 2
}
