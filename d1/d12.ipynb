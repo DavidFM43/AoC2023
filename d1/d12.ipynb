{
 "cells": [
  {
   "cell_type": "code",
   "execution_count": 130,
   "metadata": {},
   "outputs": [],
   "source": [
    "inputs = open(\"in.txt\", \"r\").read().split(\"\\n\")\n",
    "# inputs = open(\"test_in2.txt\", \"r\").read().split(\"\\n\")\n",
    "# inputs"
   ]
  },
  {
   "cell_type": "code",
   "execution_count": 129,
   "metadata": {},
   "outputs": [
    {
     "data": {
      "text/plain": [
       "54649"
      ]
     },
     "execution_count": 129,
     "metadata": {},
     "output_type": "execute_result"
    }
   ],
   "source": [
    "def sd(w):\n",
    "    sds = [\"one\", \"two\", \"three\", \"four\", \"five\", \"six\", \"seven\", \"eight\", \"nine\"]\n",
    "    rds = [sd[::-1] for sd in sds]\n",
    "    fs = [w.find(sd) if w.find(sd) != -1 else float(\"inf\") for sd in sds]\n",
    "    # reverse the whole thing so we get the last appeareance index using .find and make the indices work\n",
    "    ls = [len(w) - len(rsd) - w[::-1].find(rsd) if w[::-1].find(rsd) != -1 else float(\"-inf\") for rsd in rds]\n",
    "\n",
    "    idxf = min(fs)\n",
    "    f = fs.index(idxf) + 1 \n",
    "    idxl = max(ls)\n",
    "    l = ls.index(idxl) + 1\n",
    "\n",
    "    return f, idxf, l, idxl\n",
    "\n",
    "def nd(w):\n",
    "    idx_first, first = float(\"inf\"), float(\"inf\")\n",
    "    idx_last, last = float(\"-inf\"), float(\"-inf\")\n",
    "    for idx in range(len(w)):\n",
    "        lidx = len(w) - idx - 1\n",
    "        lchar = w[idx]\n",
    "        rchar = w[lidx]\n",
    "        if lchar.isdigit() and first == float(\"inf\"):\n",
    "            first = int(lchar)\n",
    "            idx_first = idx\n",
    "        if rchar.isdigit() and last == float(\"-inf\"):\n",
    "            last = int(rchar)\n",
    "            idx_last = lidx\n",
    "        if first != float(\"inf\") and last != float(\"-inf\"):\n",
    "            break\n",
    "\n",
    "    return first, idx_first, last, idx_last\n",
    "\n",
    "def fandl(w):\n",
    "    nf, idxnf, nl, idxnl = nd(w)\n",
    "    sf, idxsf, sl, idxsl = sd(w)\n",
    "    f = nf if min(idxsf, idxnf) == idxnf else sf\n",
    "    l = sl if max(idxsl, idxnl) == idxsl else nl\n",
    "    return f, l\n",
    "\n",
    "sum = 0\n",
    "for input in inputs:\n",
    "    f, l = fandl(input)\n",
    "    num = f * 10 + l\n",
    "    sum += num\n",
    "sum"
   ]
  }
 ],
 "metadata": {
  "kernelspec": {
   "display_name": "base",
   "language": "python",
   "name": "python3"
  },
  "language_info": {
   "codemirror_mode": {
    "name": "ipython",
    "version": 3
   },
   "file_extension": ".py",
   "mimetype": "text/x-python",
   "name": "python",
   "nbconvert_exporter": "python",
   "pygments_lexer": "ipython3",
   "version": "3.11.5"
  }
 },
 "nbformat": 4,
 "nbformat_minor": 2
}
